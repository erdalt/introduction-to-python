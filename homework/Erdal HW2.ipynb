{
 "cells": [
  {
   "cell_type": "code",
   "execution_count": 1,
   "metadata": {},
   "outputs": [],
   "source": [
    "ahmet_cv={\"İsim\":\"Ahmet\",\n",
    "          \"Soyisim\":\"Aslan\",\n",
    "          \"Doğum_Tarihi\":'01/01/1993',\n",
    "          \"Üniversite\":\"Yıldız Teknik Üniversitesi\",\n",
    "          \"Bölüm\":\"İstatistik\",\n",
    "          \"Deneyim\":\"2+\"}\n",
    "\n",
    "mehmet_cv={\"İsim\":\"Mehmet\",\n",
    "          \"Soyisim\":\"Kaplan\",\n",
    "          \"Doğum_Tarihi\":'07/11/1992',\n",
    "          \"Üniversite\":\"Karadeniz Teknik Üniversitesi\",\n",
    "          \"Bölüm\":\"Ekonometri\",\n",
    "          \"Deneyim\":\"3+\"}\n",
    "\n",
    "ayşe_cv={\"İsim\":\"Mehmet\",\n",
    "          \"Soyisim\":\"Kaplan\",\n",
    "          \"Doğum_Tarihi\":'27/08/1992',\n",
    "          \"Üniversite\":\"Yeditepe Üniversitesi\",\n",
    "          \"Bölüm\":\"Endüstri Mühendisliği\",\n",
    "          \"Deneyim\":\"3+\"}\n",
    "\n",
    "leman_cv={\"İsim\":\"Leman\",\n",
    "          \"Soyisim\":\"Baykuş\",\n",
    "          \"Doğum_Tarihi\":'12/02/1988',\n",
    "          \"Üniversite\":\"Yeditepe Üniversitesi\",\n",
    "          \"Bölüm\":\"Endüstri Mühendisliği\",\n",
    "          \"Deneyim\":\"5+\"}\n",
    "\n",
    "\n",
    "dilge_cv={\"İsim\":\"Dilge\",\n",
    "          \"Soyisim\":\"Papağan\",\n",
    "          \"Doğum_Tarihi\":'12/02/1994',\n",
    "          \"Üniversite\":\"Boğaziçi Üniversitesi\",\n",
    "          \"Bölüm\":\"Matematik\",\n",
    "          \"Deneyim\":\"Yeni Mezun\"}"
   ]
  },
  {
   "cell_type": "code",
   "execution_count": 2,
   "metadata": {},
   "outputs": [
    {
     "data": {
      "text/plain": [
       "{'İsim': 'Ahmet',\n",
       " 'Soyisim': 'Aslan',\n",
       " 'Doğum_Tarihi': '01/01/1993',\n",
       " 'Üniversite': 'Yıldız Teknik Üniversitesi',\n",
       " 'Bölüm': 'İstatistik',\n",
       " 'Deneyim': '2+'}"
      ]
     },
     "execution_count": 2,
     "metadata": {},
     "output_type": "execute_result"
    }
   ],
   "source": [
    "ahmet_cv"
   ]
  },
  {
   "cell_type": "code",
   "execution_count": 3,
   "metadata": {},
   "outputs": [
    {
     "data": {
      "text/plain": [
       "{'İsim': 'Mehmet',\n",
       " 'Soyisim': 'Kaplan',\n",
       " 'Doğum_Tarihi': '07/11/1992',\n",
       " 'Üniversite': 'Karadeniz Teknik Üniversitesi',\n",
       " 'Bölüm': 'Ekonometri',\n",
       " 'Deneyim': '3+'}"
      ]
     },
     "execution_count": 3,
     "metadata": {},
     "output_type": "execute_result"
    }
   ],
   "source": [
    "mehmet_cv"
   ]
  },
  {
   "cell_type": "code",
   "execution_count": 4,
   "metadata": {},
   "outputs": [
    {
     "data": {
      "text/plain": [
       "{'İsim': 'Mehmet',\n",
       " 'Soyisim': 'Kaplan',\n",
       " 'Doğum_Tarihi': '27/08/1992',\n",
       " 'Üniversite': 'Yeditepe Üniversitesi',\n",
       " 'Bölüm': 'Endüstri Mühendisliği',\n",
       " 'Deneyim': '3+'}"
      ]
     },
     "execution_count": 4,
     "metadata": {},
     "output_type": "execute_result"
    }
   ],
   "source": [
    "ayşe_cv"
   ]
  },
  {
   "cell_type": "code",
   "execution_count": 5,
   "metadata": {},
   "outputs": [
    {
     "data": {
      "text/plain": [
       "{'İsim': 'Leman',\n",
       " 'Soyisim': 'Baykuş',\n",
       " 'Doğum_Tarihi': '12/02/1988',\n",
       " 'Üniversite': 'Yeditepe Üniversitesi',\n",
       " 'Bölüm': 'Endüstri Mühendisliği',\n",
       " 'Deneyim': '5+'}"
      ]
     },
     "execution_count": 5,
     "metadata": {},
     "output_type": "execute_result"
    }
   ],
   "source": [
    "leman_cv"
   ]
  },
  {
   "cell_type": "code",
   "execution_count": 6,
   "metadata": {},
   "outputs": [
    {
     "data": {
      "text/plain": [
       "{'İsim': 'Dilge',\n",
       " 'Soyisim': 'Papağan',\n",
       " 'Doğum_Tarihi': '12/02/1994',\n",
       " 'Üniversite': 'Boğaziçi Üniversitesi',\n",
       " 'Bölüm': 'Matematik',\n",
       " 'Deneyim': 'Yeni Mezun'}"
      ]
     },
     "execution_count": 6,
     "metadata": {},
     "output_type": "execute_result"
    }
   ],
   "source": [
    "dilge_cv"
   ]
  },
  {
   "cell_type": "code",
   "execution_count": null,
   "metadata": {},
   "outputs": [],
   "source": []
  },
  {
   "cell_type": "code",
   "execution_count": null,
   "metadata": {},
   "outputs": [],
   "source": []
  }
 ],
 "metadata": {
  "kernelspec": {
   "display_name": "Python 3",
   "language": "python",
   "name": "python3"
  },
  "language_info": {
   "codemirror_mode": {
    "name": "ipython",
    "version": 3
   },
   "file_extension": ".py",
   "mimetype": "text/x-python",
   "name": "python",
   "nbconvert_exporter": "python",
   "pygments_lexer": "ipython3",
   "version": "3.7.6"
  }
 },
 "nbformat": 4,
 "nbformat_minor": 4
}
