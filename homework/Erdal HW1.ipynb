{
 "cells": [
  {
   "cell_type": "code",
   "execution_count": 1,
   "metadata": {},
   "outputs": [
    {
     "data": {
      "text/plain": [
       "[23,\n",
       " 27,\n",
       " 31,\n",
       " 35,\n",
       " 39,\n",
       " 43,\n",
       " 47,\n",
       " 51,\n",
       " 55,\n",
       " 59,\n",
       " 63,\n",
       " 67,\n",
       " 71,\n",
       " 75,\n",
       " 79,\n",
       " 83,\n",
       " 87,\n",
       " 91,\n",
       " 95,\n",
       " 12,\n",
       " 16,\n",
       " 20,\n",
       " 24,\n",
       " 28,\n",
       " 32,\n",
       " 36,\n",
       " 40,\n",
       " 44,\n",
       " 48,\n",
       " 52,\n",
       " 56,\n",
       " 60,\n",
       " 64,\n",
       " 68,\n",
       " 72,\n",
       " 76,\n",
       " 80]"
      ]
     },
     "execution_count": 1,
     "metadata": {},
     "output_type": "execute_result"
    }
   ],
   "source": [
    "liste1=list(range(23,96,4))\n",
    "liste2=list(range(12,81,4))\n",
    "\n",
    "liste3=liste1+liste2\n",
    "liste3"
   ]
  },
  {
   "cell_type": "code",
   "execution_count": 2,
   "metadata": {},
   "outputs": [
    {
     "data": {
      "text/plain": [
       "[46,\n",
       " 54,\n",
       " 62,\n",
       " 70,\n",
       " 78,\n",
       " 86,\n",
       " 94,\n",
       " 102,\n",
       " 110,\n",
       " 118,\n",
       " 126,\n",
       " 134,\n",
       " 142,\n",
       " 150,\n",
       " 158,\n",
       " 166,\n",
       " 174,\n",
       " 182,\n",
       " 190,\n",
       " 24,\n",
       " 32,\n",
       " 40,\n",
       " 48,\n",
       " 56,\n",
       " 64,\n",
       " 72,\n",
       " 80,\n",
       " 88,\n",
       " 96,\n",
       " 104,\n",
       " 112,\n",
       " 120,\n",
       " 128,\n",
       " 136,\n",
       " 144,\n",
       " 152,\n",
       " 160]"
      ]
     },
     "execution_count": 2,
     "metadata": {},
     "output_type": "execute_result"
    }
   ],
   "source": [
    "liste4=[i*2 for i in liste3]\n",
    "liste4"
   ]
  },
  {
   "cell_type": "code",
   "execution_count": 4,
   "metadata": {},
   "outputs": [
    {
     "name": "stdout",
     "output_type": "stream",
     "text": [
      "Lisedeki değer: 46 , veri tipi <class 'int'>\n",
      "Lisedeki değer: 54 , veri tipi <class 'int'>\n",
      "Lisedeki değer: 62 , veri tipi <class 'int'>\n",
      "Lisedeki değer: 70 , veri tipi <class 'int'>\n",
      "Lisedeki değer: 78 , veri tipi <class 'int'>\n",
      "Lisedeki değer: 86 , veri tipi <class 'int'>\n",
      "Lisedeki değer: 94 , veri tipi <class 'int'>\n",
      "Lisedeki değer: 102 , veri tipi <class 'int'>\n",
      "Lisedeki değer: 110 , veri tipi <class 'int'>\n",
      "Lisedeki değer: 118 , veri tipi <class 'int'>\n",
      "Lisedeki değer: 126 , veri tipi <class 'int'>\n",
      "Lisedeki değer: 134 , veri tipi <class 'int'>\n",
      "Lisedeki değer: 142 , veri tipi <class 'int'>\n",
      "Lisedeki değer: 150 , veri tipi <class 'int'>\n",
      "Lisedeki değer: 158 , veri tipi <class 'int'>\n",
      "Lisedeki değer: 166 , veri tipi <class 'int'>\n",
      "Lisedeki değer: 174 , veri tipi <class 'int'>\n",
      "Lisedeki değer: 182 , veri tipi <class 'int'>\n",
      "Lisedeki değer: 190 , veri tipi <class 'int'>\n",
      "Lisedeki değer: 24 , veri tipi <class 'int'>\n",
      "Lisedeki değer: 32 , veri tipi <class 'int'>\n",
      "Lisedeki değer: 40 , veri tipi <class 'int'>\n",
      "Lisedeki değer: 48 , veri tipi <class 'int'>\n",
      "Lisedeki değer: 56 , veri tipi <class 'int'>\n",
      "Lisedeki değer: 64 , veri tipi <class 'int'>\n",
      "Lisedeki değer: 72 , veri tipi <class 'int'>\n",
      "Lisedeki değer: 80 , veri tipi <class 'int'>\n",
      "Lisedeki değer: 88 , veri tipi <class 'int'>\n",
      "Lisedeki değer: 96 , veri tipi <class 'int'>\n",
      "Lisedeki değer: 104 , veri tipi <class 'int'>\n",
      "Lisedeki değer: 112 , veri tipi <class 'int'>\n",
      "Lisedeki değer: 120 , veri tipi <class 'int'>\n",
      "Lisedeki değer: 128 , veri tipi <class 'int'>\n",
      "Lisedeki değer: 136 , veri tipi <class 'int'>\n",
      "Lisedeki değer: 144 , veri tipi <class 'int'>\n",
      "Lisedeki değer: 152 , veri tipi <class 'int'>\n",
      "Lisedeki değer: 160 , veri tipi <class 'int'>\n"
     ]
    }
   ],
   "source": [
    "for i in liste4:\n",
    "    print(\"Lisedeki değer: {} , veri tipi {}\".format(i,type(i)))"
   ]
  }
 ],
 "metadata": {
  "kernelspec": {
   "display_name": "Python 3",
   "language": "python",
   "name": "python3"
  },
  "language_info": {
   "codemirror_mode": {
    "name": "ipython",
    "version": 3
   },
   "file_extension": ".py",
   "mimetype": "text/x-python",
   "name": "python",
   "nbconvert_exporter": "python",
   "pygments_lexer": "ipython3",
   "version": "3.7.6"
  }
 },
 "nbformat": 4,
 "nbformat_minor": 4
}
